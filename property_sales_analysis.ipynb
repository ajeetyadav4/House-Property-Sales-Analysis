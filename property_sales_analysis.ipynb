{
 "cells": [
  {
   "cell_type": "markdown",
   "metadata": {},
   "source": [
    "# House Property Sales Analysis"
   ]
  },
  {
   "cell_type": "markdown",
   "metadata": {},
   "source": [
    "## 1. Dataset"
   ]
  },
  {
   "cell_type": "markdown",
   "metadata": {},
   "source": [
    "In this notebook, we are going to analyze House Property Sales data for 2007-2019 (Kaggle). The dataset contains information about the houses in an Australian city with 1,2,3,4,5 bedrooms.\n",
    "\n",
    "The dataset includes the following variables:\n",
    "\n",
    "**Datesold:**     The date when an owner sold the house to a buyer. <br>\n",
    "**Postcode:**    4 digit postcode of the suburb where the owner sold the property <br>\n",
    "**Price:**           Price for which the owner sold the property. <br>\n",
    "**Bedrooms:**  Number of bedrooms. <br>\n",
    "\n",
    "\n",
    "We are going to find the answers to questions like:\n",
    "*  Which date corresponds to the highest number of sales?\n",
    "*  Find out the postcode with the highest average price per sale? (Using Aggregate Functions)\n",
    "*  Which year witnessed the lowest number of sales?\n",
    "*  Use the window function to deduce the top six postcodes by year's price.\n",
    "\n",
    "<br>\n",
    "In this project, we'll use SQL in Jupyter Notebook to explore and analyze data from this database.<br>\n",
    "The first line of the code imports pandas and sqlite3 libraries"
   ]
  },
  {
   "cell_type": "code",
   "execution_count": 1,
   "metadata": {},
   "outputs": [],
   "source": [
    "import pandas as pd\n",
    "import sqlite3"
   ]
  },
  {
   "cell_type": "markdown",
   "metadata": {},
   "source": [
    "Next we connect the Jupyter notebook to the database file. <br>\n",
    "The data is stored in the *property.db* file."
   ]
  },
  {
   "cell_type": "code",
   "execution_count": 2,
   "metadata": {},
   "outputs": [],
   "source": [
    "%%capture\n",
    "%load_ext sql\n",
    "%sql sqlite:///property.db \n",
    "\n",
    "# Here we connect the Jupyter notebook to the database file."
   ]
  },
  {
   "cell_type": "markdown",
   "metadata": {},
   "source": [
    "Here we format the input as a table. <br><br>\n",
    "**%%sql** will make it possible to run a SQL query with Jupyter"
   ]
  },
  {
   "cell_type": "code",
   "execution_count": 3,
   "metadata": {},
   "outputs": [
    {
     "name": "stdout",
     "output_type": "stream",
     "text": [
      " * sqlite:///property.db\n",
      "Done.\n"
     ]
    },
    {
     "data": {
      "text/html": [
       "<table>\n",
       "    <tr>\n",
       "        <th>type</th>\n",
       "        <th>name</th>\n",
       "        <th>tbl_name</th>\n",
       "        <th>rootpage</th>\n",
       "        <th>sql</th>\n",
       "    </tr>\n",
       "    <tr>\n",
       "        <td>table</td>\n",
       "        <td>property</td>\n",
       "        <td>property</td>\n",
       "        <td>2</td>\n",
       "        <td>CREATE TABLE &quot;property&quot; (<br>&quot;index&quot; INTEGER,<br>  &quot;datesold&quot; TEXT,<br>  &quot;postcode&quot; INTEGER,<br>  &quot;price&quot; INTEGER,<br>  &quot;propertyType&quot; TEXT,<br>  &quot;bedrooms&quot; INTEGER<br>)</td>\n",
       "    </tr>\n",
       "</table>"
      ],
      "text/plain": [
       "[('table', 'property', 'property', 2, 'CREATE TABLE \"property\" (\\n\"index\" INTEGER,\\n  \"datesold\" TEXT,\\n  \"postcode\" INTEGER,\\n  \"price\" INTEGER,\\n  \"propertyType\" TEXT,\\n  \"bedrooms\" INTEGER\\n)')]"
      ]
     },
     "execution_count": 3,
     "metadata": {},
     "output_type": "execute_result"
    }
   ],
   "source": [
    "%%sql\n",
    "\n",
    "select *\n",
    "  from sqlite_master\n",
    " where type='table';"
   ]
  },
  {
   "cell_type": "markdown",
   "metadata": {},
   "source": [
    "In next step we'll look for the data by limiting the output to first 5 rows of the dataset to keep the output clean.<br>\n",
    "We can see the *price of the houses*, *postcodes*, *property type* and *number of bedrooms* along with the *date* on which it was sold."
   ]
  },
  {
   "cell_type": "code",
   "execution_count": 4,
   "metadata": {},
   "outputs": [
    {
     "name": "stdout",
     "output_type": "stream",
     "text": [
      " * sqlite:///property.db\n",
      "Done.\n"
     ]
    },
    {
     "data": {
      "text/html": [
       "<table>\n",
       "    <tr>\n",
       "        <th>index</th>\n",
       "        <th>datesold</th>\n",
       "        <th>postcode</th>\n",
       "        <th>price</th>\n",
       "        <th>propertyType</th>\n",
       "        <th>bedrooms</th>\n",
       "    </tr>\n",
       "    <tr>\n",
       "        <td>0</td>\n",
       "        <td>2007-02-07</td>\n",
       "        <td>2607</td>\n",
       "        <td>525000</td>\n",
       "        <td>house</td>\n",
       "        <td>4</td>\n",
       "    </tr>\n",
       "    <tr>\n",
       "        <td>1</td>\n",
       "        <td>2007-02-27</td>\n",
       "        <td>2906</td>\n",
       "        <td>290000</td>\n",
       "        <td>house</td>\n",
       "        <td>3</td>\n",
       "    </tr>\n",
       "    <tr>\n",
       "        <td>2</td>\n",
       "        <td>2007-03-07</td>\n",
       "        <td>2905</td>\n",
       "        <td>328000</td>\n",
       "        <td>house</td>\n",
       "        <td>3</td>\n",
       "    </tr>\n",
       "    <tr>\n",
       "        <td>3</td>\n",
       "        <td>2007-03-09</td>\n",
       "        <td>2905</td>\n",
       "        <td>380000</td>\n",
       "        <td>house</td>\n",
       "        <td>4</td>\n",
       "    </tr>\n",
       "    <tr>\n",
       "        <td>4</td>\n",
       "        <td>2007-03-21</td>\n",
       "        <td>2906</td>\n",
       "        <td>310000</td>\n",
       "        <td>house</td>\n",
       "        <td>3</td>\n",
       "    </tr>\n",
       "</table>"
      ],
      "text/plain": [
       "[(0, '2007-02-07', 2607, 525000, 'house', 4),\n",
       " (1, '2007-02-27', 2906, 290000, 'house', 3),\n",
       " (2, '2007-03-07', 2905, 328000, 'house', 3),\n",
       " (3, '2007-03-09', 2905, 380000, 'house', 4),\n",
       " (4, '2007-03-21', 2906, 310000, 'house', 3)]"
      ]
     },
     "execution_count": 4,
     "metadata": {},
     "output_type": "execute_result"
    }
   ],
   "source": [
    "%%sql\n",
    "SELECT *\n",
    "FROM property\n",
    "limit 5;"
   ]
  },
  {
   "cell_type": "markdown",
   "metadata": {},
   "source": [
    "## 2.Finding the number of distinct types of property"
   ]
  },
  {
   "cell_type": "markdown",
   "metadata": {},
   "source": [
    "In this section, we are going to extract the number of unique types of properties present in the table."
   ]
  },
  {
   "cell_type": "code",
   "execution_count": 5,
   "metadata": {},
   "outputs": [
    {
     "name": "stdout",
     "output_type": "stream",
     "text": [
      " * sqlite:///property.db\n",
      "Done.\n"
     ]
    },
    {
     "data": {
      "text/html": [
       "<table>\n",
       "    <tr>\n",
       "        <th>propertyType</th>\n",
       "    </tr>\n",
       "    <tr>\n",
       "        <td>house</td>\n",
       "    </tr>\n",
       "    <tr>\n",
       "        <td>None</td>\n",
       "    </tr>\n",
       "    <tr>\n",
       "        <td>unit</td>\n",
       "    </tr>\n",
       "</table>"
      ],
      "text/plain": [
       "[('house',), (None,), ('unit',)]"
      ]
     },
     "execution_count": 5,
     "metadata": {},
     "output_type": "execute_result"
    }
   ],
   "source": [
    "%%sql\n",
    "select\n",
    "            distinct propertyType\n",
    "from property\n"
   ]
  },
  {
   "cell_type": "markdown",
   "metadata": {},
   "source": [
    "## 3. Finding out the number of bedrooms"
   ]
  },
  {
   "cell_type": "markdown",
   "metadata": {},
   "source": [
    "We can see there are 2 types of properties(remove the data with property type as 'None'). Houses have different number of bedrooms, so, we will look for the distinct number of bedrooms in the table"
   ]
  },
  {
   "cell_type": "code",
   "execution_count": 6,
   "metadata": {},
   "outputs": [
    {
     "name": "stdout",
     "output_type": "stream",
     "text": [
      " * sqlite:///property.db\n",
      "Done.\n"
     ]
    },
    {
     "data": {
      "text/html": [
       "<table>\n",
       "    <tr>\n",
       "        <th>bedrooms</th>\n",
       "    </tr>\n",
       "    <tr>\n",
       "        <td>1</td>\n",
       "    </tr>\n",
       "    <tr>\n",
       "        <td>2</td>\n",
       "    </tr>\n",
       "    <tr>\n",
       "        <td>3</td>\n",
       "    </tr>\n",
       "    <tr>\n",
       "        <td>4</td>\n",
       "    </tr>\n",
       "    <tr>\n",
       "        <td>5</td>\n",
       "    </tr>\n",
       "</table>"
      ],
      "text/plain": [
       "[(1,), (2,), (3,), (4,), (5,)]"
      ]
     },
     "execution_count": 6,
     "metadata": {},
     "output_type": "execute_result"
    }
   ],
   "source": [
    "%%sql\n",
    "select\n",
    "            distinct bedrooms\n",
    "from property\n",
    "            order by bedrooms"
   ]
  },
  {
   "cell_type": "markdown",
   "metadata": {},
   "source": [
    "## 4. Find out the distinct postcodes"
   ]
  },
  {
   "cell_type": "markdown",
   "metadata": {},
   "source": [
    "We can see there are houses with 1,2,3,4,5 bedroom.\n",
    "Next, to find out the number of postcodes given in the data, we will use the following SQL command"
   ]
  },
  {
   "cell_type": "code",
   "execution_count": 7,
   "metadata": {},
   "outputs": [
    {
     "name": "stdout",
     "output_type": "stream",
     "text": [
      " * sqlite:///property.db\n",
      "Done.\n"
     ]
    },
    {
     "data": {
      "text/html": [
       "<table>\n",
       "    <tr>\n",
       "        <th>Number_of_post_codes</th>\n",
       "    </tr>\n",
       "    <tr>\n",
       "        <td>27</td>\n",
       "    </tr>\n",
       "</table>"
      ],
      "text/plain": [
       "[(27,)]"
      ]
     },
     "execution_count": 7,
     "metadata": {},
     "output_type": "execute_result"
    }
   ],
   "source": [
    "%%sql\n",
    "select\n",
    "            count(distinct postcode) as Number_of_post_codes\n",
    "from property"
   ]
  },
  {
   "cell_type": "markdown",
   "metadata": {},
   "source": [
    "## 5. Find out the minimum and the maximum price"
   ]
  },
  {
   "cell_type": "markdown",
   "metadata": {},
   "source": [
    "From the above query we can see that the data given is for *27* postcodes.\n",
    "Now that we have the number of postcodes, let's now find out the minimum and the maximum price of the house properties along with the postcode, datesold and property type. "
   ]
  },
  {
   "cell_type": "code",
   "execution_count": 8,
   "metadata": {},
   "outputs": [
    {
     "name": "stdout",
     "output_type": "stream",
     "text": [
      " * sqlite:///property.db\n",
      "Done.\n"
     ]
    },
    {
     "data": {
      "text/html": [
       "<table>\n",
       "    <tr>\n",
       "        <th>Min_Price</th>\n",
       "        <th>postcode</th>\n",
       "        <th>propertyType</th>\n",
       "        <th>datesold</th>\n",
       "    </tr>\n",
       "    <tr>\n",
       "        <td>56500</td>\n",
       "        <td>2611</td>\n",
       "        <td>house</td>\n",
       "        <td>2015-04-24</td>\n",
       "    </tr>\n",
       "</table>"
      ],
      "text/plain": [
       "[(56500, 2611, 'house', '2015-04-24')]"
      ]
     },
     "execution_count": 8,
     "metadata": {},
     "output_type": "execute_result"
    }
   ],
   "source": [
    "%%sql\n",
    "select\n",
    "            min(price) as Min_Price,\n",
    "            postcode,\n",
    "            propertyType,\n",
    "            datesold\n",
    "from property"
   ]
  },
  {
   "cell_type": "code",
   "execution_count": 9,
   "metadata": {
    "scrolled": true
   },
   "outputs": [
    {
     "name": "stdout",
     "output_type": "stream",
     "text": [
      " * sqlite:///property.db\n",
      "Done.\n"
     ]
    },
    {
     "data": {
      "text/html": [
       "<table>\n",
       "    <tr>\n",
       "        <th>Max_price</th>\n",
       "        <th>postcode</th>\n",
       "        <th>propertyType</th>\n",
       "        <th>datesold</th>\n",
       "    </tr>\n",
       "    <tr>\n",
       "        <td>8000000</td>\n",
       "        <td>2611</td>\n",
       "        <td>house</td>\n",
       "        <td>2015-11-02</td>\n",
       "    </tr>\n",
       "</table>"
      ],
      "text/plain": [
       "[(8000000, 2611, 'house', '2015-11-02')]"
      ]
     },
     "execution_count": 9,
     "metadata": {},
     "output_type": "execute_result"
    }
   ],
   "source": [
    "%%sql\n",
    "select\n",
    "            max(price) as Max_price,\n",
    "            postcode,\n",
    "            propertyType,\n",
    "            datesold\n",
    "from property"
   ]
  },
  {
   "cell_type": "markdown",
   "metadata": {},
   "source": [
    "## 6. Find the date with the highest property prices"
   ]
  },
  {
   "cell_type": "code",
   "execution_count": 10,
   "metadata": {},
   "outputs": [
    {
     "name": "stdout",
     "output_type": "stream",
     "text": [
      " * sqlite:///property.db\n",
      "Done.\n"
     ]
    },
    {
     "data": {
      "text/html": [
       "<table>\n",
       "    <tr>\n",
       "        <th>Date</th>\n",
       "        <th>Total_sales</th>\n",
       "    </tr>\n",
       "    <tr>\n",
       "        <td>2017-10-28</td>\n",
       "        <td>42421600</td>\n",
       "    </tr>\n",
       "</table>"
      ],
      "text/plain": [
       "[('2017-10-28', 42421600)]"
      ]
     },
     "execution_count": 10,
     "metadata": {},
     "output_type": "execute_result"
    }
   ],
   "source": [
    "%%sql\n",
    "select\n",
    "        datesold  as Date,\n",
    "        sum(price) as Total_sales\n",
    "from property\n",
    "        group by datesold\n",
    "        order by sum(price) desc\n",
    "        limit 1"
   ]
  },
  {
   "cell_type": "markdown",
   "metadata": {},
   "source": [
    "## 7. Find out the postcode with highest avgerage price per sale"
   ]
  },
  {
   "cell_type": "markdown",
   "metadata": {},
   "source": [
    "Now we know that the minimum and maximum price are *56.5K* and *8M* respectively and both the prices are at same postcode i.e. *2611* in year *2015*.\n",
    "\n",
    "Let's look for postcode with the highest average sale price among all postcodes"
   ]
  },
  {
   "cell_type": "code",
   "execution_count": 11,
   "metadata": {},
   "outputs": [
    {
     "name": "stdout",
     "output_type": "stream",
     "text": [
      " * sqlite:///property.db\n",
      "Done.\n"
     ]
    },
    {
     "data": {
      "text/html": [
       "<table>\n",
       "    <tr>\n",
       "        <th>postcode</th>\n",
       "        <th>highest_avg_price_per_sale</th>\n",
       "    </tr>\n",
       "    <tr>\n",
       "        <td>2618</td>\n",
       "        <td>1081111</td>\n",
       "    </tr>\n",
       "</table>"
      ],
      "text/plain": [
       "[(2618, 1081111)]"
      ]
     },
     "execution_count": 11,
     "metadata": {},
     "output_type": "execute_result"
    }
   ],
   "source": [
    "%%sql\n",
    "with avg_sales as(\n",
    "            select\n",
    "                    distinct postcode,\n",
    "                    cast(avg(price) as int) as avg_price_per_sale\n",
    "            from property\n",
    "                group by postcode\n",
    "       )\n",
    "select \n",
    "            postcode,\n",
    "            max(avg_price_per_sale) as highest_avg_price_per_sale\n",
    "from avg_sales\n",
    "           \n",
    "        "
   ]
  },
  {
   "cell_type": "markdown",
   "metadata": {},
   "source": [
    "## 8. Find the date with most frequent sales"
   ]
  },
  {
   "cell_type": "markdown",
   "metadata": {},
   "source": [
    "Postcode *2618* has the highest average sales price *1.08M*.\n",
    "\n",
    "Let's write a query to look for the date with most sales count and the sum of the price on that particular day."
   ]
  },
  {
   "cell_type": "code",
   "execution_count": 12,
   "metadata": {},
   "outputs": [
    {
     "name": "stdout",
     "output_type": "stream",
     "text": [
      " * sqlite:///property.db\n",
      "Done.\n"
     ]
    },
    {
     "data": {
      "text/html": [
       "<table>\n",
       "    <tr>\n",
       "        <th>year</th>\n",
       "        <th>sales_count</th>\n",
       "        <th>sum_of_price</th>\n",
       "    </tr>\n",
       "    <tr>\n",
       "        <td>2017-10-28</td>\n",
       "        <td>50</td>\n",
       "        <td>42421600</td>\n",
       "    </tr>\n",
       "    <tr>\n",
       "        <td>2017-11-18</td>\n",
       "        <td>39</td>\n",
       "        <td>34661000</td>\n",
       "    </tr>\n",
       "    <tr>\n",
       "        <td>2018-03-24</td>\n",
       "        <td>38</td>\n",
       "        <td>32819000</td>\n",
       "    </tr>\n",
       "    <tr>\n",
       "        <td>2017-11-11</td>\n",
       "        <td>37</td>\n",
       "        <td>31425200</td>\n",
       "    </tr>\n",
       "    <tr>\n",
       "        <td>2017-04-08</td>\n",
       "        <td>37</td>\n",
       "        <td>31556000</td>\n",
       "    </tr>\n",
       "</table>"
      ],
      "text/plain": [
       "[('2017-10-28', 50, 42421600),\n",
       " ('2017-11-18', 39, 34661000),\n",
       " ('2018-03-24', 38, 32819000),\n",
       " ('2017-11-11', 37, 31425200),\n",
       " ('2017-04-08', 37, 31556000)]"
      ]
     },
     "execution_count": 12,
     "metadata": {},
     "output_type": "execute_result"
    }
   ],
   "source": [
    "%%sql\n",
    "select \n",
    "            strftime('%Y-%m-%d',datesold) as year,\n",
    "            count(*) as sales_count,\n",
    "            sum(price) as sum_of_price\n",
    "from property\n",
    "        group by datesold\n",
    "        order by sales_count desc \n",
    "        limit 5;"
   ]
  },
  {
   "cell_type": "markdown",
   "metadata": {},
   "source": [
    "## 9. Find the postcode with most sales by count"
   ]
  },
  {
   "cell_type": "markdown",
   "metadata": {},
   "source": [
    "50 properties were sold worth *42.42M* on **28th Oct 2017** i.e. the most sales count in a day.<br>\n",
    "Let's find out the postcode with most sales count from *2007* to *2019*. <br>"
   ]
  },
  {
   "cell_type": "code",
   "execution_count": 13,
   "metadata": {},
   "outputs": [
    {
     "name": "stdout",
     "output_type": "stream",
     "text": [
      " * sqlite:///property.db\n",
      "Done.\n"
     ]
    },
    {
     "data": {
      "text/html": [
       "<table>\n",
       "    <tr>\n",
       "        <th>postcode</th>\n",
       "        <th>sales_count</th>\n",
       "    </tr>\n",
       "    <tr>\n",
       "        <td>2615</td>\n",
       "        <td>3564</td>\n",
       "    </tr>\n",
       "    <tr>\n",
       "        <td>2602</td>\n",
       "        <td>2599</td>\n",
       "    </tr>\n",
       "    <tr>\n",
       "        <td>2913</td>\n",
       "        <td>2556</td>\n",
       "    </tr>\n",
       "    <tr>\n",
       "        <td>2905</td>\n",
       "        <td>2259</td>\n",
       "    </tr>\n",
       "    <tr>\n",
       "        <td>2617</td>\n",
       "        <td>2114</td>\n",
       "    </tr>\n",
       "</table>"
      ],
      "text/plain": [
       "[(2615, 3564), (2602, 2599), (2913, 2556), (2905, 2259), (2617, 2114)]"
      ]
     },
     "execution_count": 13,
     "metadata": {},
     "output_type": "execute_result"
    }
   ],
   "source": [
    "%%sql\n",
    "select \n",
    "            postcode,\n",
    "            count(*) as sales_count\n",
    "from property\n",
    "            group by postcode\n",
    "            order by sales_count desc\n",
    "            limit 5;"
   ]
  },
  {
   "cell_type": "markdown",
   "metadata": {},
   "source": [
    "## 10. Find top the 3 postcodes with highest sales price each year"
   ]
  },
  {
   "cell_type": "markdown",
   "metadata": {},
   "source": [
    "Postcode *2615* is on the top in terms of sales count i.e. 3564 properties sold from the year 2007 to 2019.<br>\n",
    "Now, we will look for the top 3 postcodes by the highest sum of price every year."
   ]
  },
  {
   "cell_type": "code",
   "execution_count": 14,
   "metadata": {},
   "outputs": [
    {
     "name": "stdout",
     "output_type": "stream",
     "text": [
      " * sqlite:///property.db\n",
      "Done.\n"
     ]
    },
    {
     "data": {
      "text/html": [
       "<table>\n",
       "    <tr>\n",
       "        <th>year</th>\n",
       "        <th>postcode</th>\n",
       "        <th>sum(price)</th>\n",
       "        <th>rank_</th>\n",
       "    </tr>\n",
       "    <tr>\n",
       "        <td>2007</td>\n",
       "        <td>2602</td>\n",
       "        <td>11225500</td>\n",
       "        <td>1</td>\n",
       "    </tr>\n",
       "    <tr>\n",
       "        <td>2007</td>\n",
       "        <td>2905</td>\n",
       "        <td>6415500</td>\n",
       "        <td>2</td>\n",
       "    </tr>\n",
       "    <tr>\n",
       "        <td>2007</td>\n",
       "        <td>2906</td>\n",
       "        <td>5696500</td>\n",
       "        <td>3</td>\n",
       "    </tr>\n",
       "    <tr>\n",
       "        <td>2008</td>\n",
       "        <td>2611</td>\n",
       "        <td>32017750</td>\n",
       "        <td>1</td>\n",
       "    </tr>\n",
       "    <tr>\n",
       "        <td>2008</td>\n",
       "        <td>2602</td>\n",
       "        <td>29482950</td>\n",
       "        <td>2</td>\n",
       "    </tr>\n",
       "    <tr>\n",
       "        <td>2008</td>\n",
       "        <td>2906</td>\n",
       "        <td>27925000</td>\n",
       "        <td>3</td>\n",
       "    </tr>\n",
       "    <tr>\n",
       "        <td>2009</td>\n",
       "        <td>2905</td>\n",
       "        <td>72295975</td>\n",
       "        <td>1</td>\n",
       "    </tr>\n",
       "    <tr>\n",
       "        <td>2009</td>\n",
       "        <td>2615</td>\n",
       "        <td>67330345</td>\n",
       "        <td>2</td>\n",
       "    </tr>\n",
       "    <tr>\n",
       "        <td>2009</td>\n",
       "        <td>2602</td>\n",
       "        <td>65746250</td>\n",
       "        <td>3</td>\n",
       "    </tr>\n",
       "    <tr>\n",
       "        <td>2010</td>\n",
       "        <td>2602</td>\n",
       "        <td>96522423</td>\n",
       "        <td>1</td>\n",
       "    </tr>\n",
       "    <tr>\n",
       "        <td>2010</td>\n",
       "        <td>2615</td>\n",
       "        <td>76787772</td>\n",
       "        <td>2</td>\n",
       "    </tr>\n",
       "    <tr>\n",
       "        <td>2010</td>\n",
       "        <td>2905</td>\n",
       "        <td>76304509</td>\n",
       "        <td>3</td>\n",
       "    </tr>\n",
       "    <tr>\n",
       "        <td>2011</td>\n",
       "        <td>2602</td>\n",
       "        <td>103140378</td>\n",
       "        <td>1</td>\n",
       "    </tr>\n",
       "    <tr>\n",
       "        <td>2011</td>\n",
       "        <td>2615</td>\n",
       "        <td>90142035</td>\n",
       "        <td>2</td>\n",
       "    </tr>\n",
       "    <tr>\n",
       "        <td>2011</td>\n",
       "        <td>2905</td>\n",
       "        <td>85731229</td>\n",
       "        <td>3</td>\n",
       "    </tr>\n",
       "    <tr>\n",
       "        <td>2012</td>\n",
       "        <td>2615</td>\n",
       "        <td>123101800</td>\n",
       "        <td>1</td>\n",
       "    </tr>\n",
       "    <tr>\n",
       "        <td>2012</td>\n",
       "        <td>2602</td>\n",
       "        <td>92074399</td>\n",
       "        <td>2</td>\n",
       "    </tr>\n",
       "    <tr>\n",
       "        <td>2012</td>\n",
       "        <td>2905</td>\n",
       "        <td>76718750</td>\n",
       "        <td>3</td>\n",
       "    </tr>\n",
       "    <tr>\n",
       "        <td>2013</td>\n",
       "        <td>2602</td>\n",
       "        <td>133360957</td>\n",
       "        <td>1</td>\n",
       "    </tr>\n",
       "    <tr>\n",
       "        <td>2013</td>\n",
       "        <td>2615</td>\n",
       "        <td>125460494</td>\n",
       "        <td>2</td>\n",
       "    </tr>\n",
       "    <tr>\n",
       "        <td>2013</td>\n",
       "        <td>2913</td>\n",
       "        <td>98699318</td>\n",
       "        <td>3</td>\n",
       "    </tr>\n",
       "    <tr>\n",
       "        <td>2014</td>\n",
       "        <td>2602</td>\n",
       "        <td>170235929</td>\n",
       "        <td>1</td>\n",
       "    </tr>\n",
       "    <tr>\n",
       "        <td>2014</td>\n",
       "        <td>2615</td>\n",
       "        <td>164515311</td>\n",
       "        <td>2</td>\n",
       "    </tr>\n",
       "    <tr>\n",
       "        <td>2014</td>\n",
       "        <td>2913</td>\n",
       "        <td>145530402</td>\n",
       "        <td>3</td>\n",
       "    </tr>\n",
       "    <tr>\n",
       "        <td>2015</td>\n",
       "        <td>2602</td>\n",
       "        <td>251849840</td>\n",
       "        <td>1</td>\n",
       "    </tr>\n",
       "    <tr>\n",
       "        <td>2015</td>\n",
       "        <td>2615</td>\n",
       "        <td>204344880</td>\n",
       "        <td>2</td>\n",
       "    </tr>\n",
       "    <tr>\n",
       "        <td>2015</td>\n",
       "        <td>2913</td>\n",
       "        <td>196568538</td>\n",
       "        <td>3</td>\n",
       "    </tr>\n",
       "    <tr>\n",
       "        <td>2016</td>\n",
       "        <td>2615</td>\n",
       "        <td>234869350</td>\n",
       "        <td>1</td>\n",
       "    </tr>\n",
       "    <tr>\n",
       "        <td>2016</td>\n",
       "        <td>2602</td>\n",
       "        <td>229210020</td>\n",
       "        <td>2</td>\n",
       "    </tr>\n",
       "    <tr>\n",
       "        <td>2016</td>\n",
       "        <td>2913</td>\n",
       "        <td>213292438</td>\n",
       "        <td>3</td>\n",
       "    </tr>\n",
       "    <tr>\n",
       "        <td>2017</td>\n",
       "        <td>2615</td>\n",
       "        <td>306863743</td>\n",
       "        <td>1</td>\n",
       "    </tr>\n",
       "    <tr>\n",
       "        <td>2017</td>\n",
       "        <td>2602</td>\n",
       "        <td>282588816</td>\n",
       "        <td>2</td>\n",
       "    </tr>\n",
       "    <tr>\n",
       "        <td>2017</td>\n",
       "        <td>2913</td>\n",
       "        <td>264685406</td>\n",
       "        <td>3</td>\n",
       "    </tr>\n",
       "    <tr>\n",
       "        <td>2018</td>\n",
       "        <td>2615</td>\n",
       "        <td>270900394</td>\n",
       "        <td>1</td>\n",
       "    </tr>\n",
       "    <tr>\n",
       "        <td>2018</td>\n",
       "        <td>2602</td>\n",
       "        <td>264120830</td>\n",
       "        <td>2</td>\n",
       "    </tr>\n",
       "    <tr>\n",
       "        <td>2018</td>\n",
       "        <td>2913</td>\n",
       "        <td>241767690</td>\n",
       "        <td>3</td>\n",
       "    </tr>\n",
       "    <tr>\n",
       "        <td>2019</td>\n",
       "        <td>2615</td>\n",
       "        <td>110214894</td>\n",
       "        <td>1</td>\n",
       "    </tr>\n",
       "    <tr>\n",
       "        <td>2019</td>\n",
       "        <td>2913</td>\n",
       "        <td>84974450</td>\n",
       "        <td>2</td>\n",
       "    </tr>\n",
       "    <tr>\n",
       "        <td>2019</td>\n",
       "        <td>2602</td>\n",
       "        <td>78585638</td>\n",
       "        <td>3</td>\n",
       "    </tr>\n",
       "</table>"
      ],
      "text/plain": [
       "[('2007', 2602, 11225500, 1),\n",
       " ('2007', 2905, 6415500, 2),\n",
       " ('2007', 2906, 5696500, 3),\n",
       " ('2008', 2611, 32017750, 1),\n",
       " ('2008', 2602, 29482950, 2),\n",
       " ('2008', 2906, 27925000, 3),\n",
       " ('2009', 2905, 72295975, 1),\n",
       " ('2009', 2615, 67330345, 2),\n",
       " ('2009', 2602, 65746250, 3),\n",
       " ('2010', 2602, 96522423, 1),\n",
       " ('2010', 2615, 76787772, 2),\n",
       " ('2010', 2905, 76304509, 3),\n",
       " ('2011', 2602, 103140378, 1),\n",
       " ('2011', 2615, 90142035, 2),\n",
       " ('2011', 2905, 85731229, 3),\n",
       " ('2012', 2615, 123101800, 1),\n",
       " ('2012', 2602, 92074399, 2),\n",
       " ('2012', 2905, 76718750, 3),\n",
       " ('2013', 2602, 133360957, 1),\n",
       " ('2013', 2615, 125460494, 2),\n",
       " ('2013', 2913, 98699318, 3),\n",
       " ('2014', 2602, 170235929, 1),\n",
       " ('2014', 2615, 164515311, 2),\n",
       " ('2014', 2913, 145530402, 3),\n",
       " ('2015', 2602, 251849840, 1),\n",
       " ('2015', 2615, 204344880, 2),\n",
       " ('2015', 2913, 196568538, 3),\n",
       " ('2016', 2615, 234869350, 1),\n",
       " ('2016', 2602, 229210020, 2),\n",
       " ('2016', 2913, 213292438, 3),\n",
       " ('2017', 2615, 306863743, 1),\n",
       " ('2017', 2602, 282588816, 2),\n",
       " ('2017', 2913, 264685406, 3),\n",
       " ('2018', 2615, 270900394, 1),\n",
       " ('2018', 2602, 264120830, 2),\n",
       " ('2018', 2913, 241767690, 3),\n",
       " ('2019', 2615, 110214894, 1),\n",
       " ('2019', 2913, 84974450, 2),\n",
       " ('2019', 2602, 78585638, 3)]"
      ]
     },
     "execution_count": 14,
     "metadata": {},
     "output_type": "execute_result"
    }
   ],
   "source": [
    "%%sql\n",
    "with top_postcodes_by_year as(\n",
    "        select\n",
    "                strftime('%Y',datesold) as year,\n",
    "                postcode,\n",
    "                sum(price),\n",
    "                dense_rank() over(partition by strftime('%Y',datesold) order by sum(price) desc) as rank_\n",
    "        from property\n",
    "            group by 1,2\n",
    ")\n",
    "select \n",
    "            * \n",
    "from top_postcodes_by_year\n",
    "            where rank_ <=3"
   ]
  },
  {
   "cell_type": "markdown",
   "metadata": {},
   "source": [
    "## 11. Find the % change in average price of a property compared to previous year."
   ]
  },
  {
   "cell_type": "markdown",
   "metadata": {},
   "source": [
    "We have used Common Table Expression(CTE) in the above query for better readibility, used dense_rank() function to rank the postcodes on the basis of year and sum of property prices in that area and then filtered the top 3 postcodes in each year. <br>\n",
    "<br> \n",
    "Now, we will find out the % change in average price of the properties using lag() function and use coalesce() function to handle NULL values.\n",
    "\n",
    "### The following query is to find out the % change in the average price for properties with 5 bedrooms compared to the previous year."
   ]
  },
  {
   "cell_type": "code",
   "execution_count": 15,
   "metadata": {},
   "outputs": [
    {
     "name": "stdout",
     "output_type": "stream",
     "text": [
      " * sqlite:///property.db\n",
      "Done.\n"
     ]
    },
    {
     "data": {
      "text/html": [
       "<table>\n",
       "    <tr>\n",
       "        <th>year</th>\n",
       "        <th>avg_price</th>\n",
       "        <th>prev_year_price</th>\n",
       "        <th>pct_change</th>\n",
       "    </tr>\n",
       "    <tr>\n",
       "        <td>2007</td>\n",
       "        <td>278900</td>\n",
       "        <td>0</td>\n",
       "        <td>0</td>\n",
       "    </tr>\n",
       "    <tr>\n",
       "        <td>2008</td>\n",
       "        <td>310266</td>\n",
       "        <td>278900</td>\n",
       "        <td>11</td>\n",
       "    </tr>\n",
       "    <tr>\n",
       "        <td>2009</td>\n",
       "        <td>300340</td>\n",
       "        <td>310266</td>\n",
       "        <td>-3</td>\n",
       "    </tr>\n",
       "    <tr>\n",
       "        <td>2010</td>\n",
       "        <td>336753</td>\n",
       "        <td>300340</td>\n",
       "        <td>12</td>\n",
       "    </tr>\n",
       "    <tr>\n",
       "        <td>2011</td>\n",
       "        <td>357378</td>\n",
       "        <td>336753</td>\n",
       "        <td>6</td>\n",
       "    </tr>\n",
       "    <tr>\n",
       "        <td>2012</td>\n",
       "        <td>351710</td>\n",
       "        <td>357378</td>\n",
       "        <td>-1</td>\n",
       "    </tr>\n",
       "    <tr>\n",
       "        <td>2013</td>\n",
       "        <td>340007</td>\n",
       "        <td>351710</td>\n",
       "        <td>-3</td>\n",
       "    </tr>\n",
       "    <tr>\n",
       "        <td>2014</td>\n",
       "        <td>363718</td>\n",
       "        <td>340007</td>\n",
       "        <td>6</td>\n",
       "    </tr>\n",
       "    <tr>\n",
       "        <td>2015</td>\n",
       "        <td>324337</td>\n",
       "        <td>363718</td>\n",
       "        <td>-10</td>\n",
       "    </tr>\n",
       "    <tr>\n",
       "        <td>2016</td>\n",
       "        <td>322143</td>\n",
       "        <td>324337</td>\n",
       "        <td>0</td>\n",
       "    </tr>\n",
       "    <tr>\n",
       "        <td>2017</td>\n",
       "        <td>334584</td>\n",
       "        <td>322143</td>\n",
       "        <td>3</td>\n",
       "    </tr>\n",
       "    <tr>\n",
       "        <td>2018</td>\n",
       "        <td>344656</td>\n",
       "        <td>334584</td>\n",
       "        <td>3</td>\n",
       "    </tr>\n",
       "    <tr>\n",
       "        <td>2019</td>\n",
       "        <td>330504</td>\n",
       "        <td>344656</td>\n",
       "        <td>-4</td>\n",
       "    </tr>\n",
       "</table>"
      ],
      "text/plain": [
       "[('2007', 278900, 0, 0),\n",
       " ('2008', 310266, 278900, 11),\n",
       " ('2009', 300340, 310266, -3),\n",
       " ('2010', 336753, 300340, 12),\n",
       " ('2011', 357378, 336753, 6),\n",
       " ('2012', 351710, 357378, -1),\n",
       " ('2013', 340007, 351710, -3),\n",
       " ('2014', 363718, 340007, 6),\n",
       " ('2015', 324337, 363718, -10),\n",
       " ('2016', 322143, 324337, 0),\n",
       " ('2017', 334584, 322143, 3),\n",
       " ('2018', 344656, 334584, 3),\n",
       " ('2019', 330504, 344656, -4)]"
      ]
     },
     "execution_count": 15,
     "metadata": {},
     "output_type": "execute_result"
    }
   ],
   "source": [
    "%%sql\n",
    "with cte as(\n",
    "select\n",
    "            distinct strftime('%Y',datesold) as year,\n",
    "            cast(avg(price) as int) as avg_price\n",
    "from property\n",
    "        where bedrooms = 1\n",
    "            group by 1\n",
    "),\n",
    "cte_2 as(\n",
    "select\n",
    "            *,\n",
    "            coalesce(lag(avg_price,1) over(order by year),0) as prev_year_price\n",
    "            \n",
    "    from cte)\n",
    "select\n",
    "        *,\n",
    "        coalesce((avg_price - prev_year_price)*100/prev_year_price , 0)  as  pct_change\n",
    "from cte_2"
   ]
  },
  {
   "cell_type": "markdown",
   "metadata": {},
   "source": [
    "### The following query is to find out the % change in the average price for properties with 2 bedrooms compared to the previous year."
   ]
  },
  {
   "cell_type": "code",
   "execution_count": 16,
   "metadata": {},
   "outputs": [
    {
     "name": "stdout",
     "output_type": "stream",
     "text": [
      " * sqlite:///property.db\n",
      "Done.\n"
     ]
    },
    {
     "data": {
      "text/html": [
       "<table>\n",
       "    <tr>\n",
       "        <th>year</th>\n",
       "        <th>avg_price</th>\n",
       "        <th>prev_year_price</th>\n",
       "        <th>pct_change</th>\n",
       "    </tr>\n",
       "    <tr>\n",
       "        <td>2007</td>\n",
       "        <td>369996</td>\n",
       "        <td>0</td>\n",
       "        <td>0</td>\n",
       "    </tr>\n",
       "    <tr>\n",
       "        <td>2008</td>\n",
       "        <td>396381</td>\n",
       "        <td>369996</td>\n",
       "        <td>7</td>\n",
       "    </tr>\n",
       "    <tr>\n",
       "        <td>2009</td>\n",
       "        <td>404590</td>\n",
       "        <td>396381</td>\n",
       "        <td>2</td>\n",
       "    </tr>\n",
       "    <tr>\n",
       "        <td>2010</td>\n",
       "        <td>451798</td>\n",
       "        <td>404590</td>\n",
       "        <td>11</td>\n",
       "    </tr>\n",
       "    <tr>\n",
       "        <td>2011</td>\n",
       "        <td>437060</td>\n",
       "        <td>451798</td>\n",
       "        <td>-3</td>\n",
       "    </tr>\n",
       "    <tr>\n",
       "        <td>2012</td>\n",
       "        <td>438873</td>\n",
       "        <td>437060</td>\n",
       "        <td>0</td>\n",
       "    </tr>\n",
       "    <tr>\n",
       "        <td>2013</td>\n",
       "        <td>430299</td>\n",
       "        <td>438873</td>\n",
       "        <td>-1</td>\n",
       "    </tr>\n",
       "    <tr>\n",
       "        <td>2014</td>\n",
       "        <td>442868</td>\n",
       "        <td>430299</td>\n",
       "        <td>2</td>\n",
       "    </tr>\n",
       "    <tr>\n",
       "        <td>2015</td>\n",
       "        <td>446744</td>\n",
       "        <td>442868</td>\n",
       "        <td>0</td>\n",
       "    </tr>\n",
       "    <tr>\n",
       "        <td>2016</td>\n",
       "        <td>455457</td>\n",
       "        <td>446744</td>\n",
       "        <td>1</td>\n",
       "    </tr>\n",
       "    <tr>\n",
       "        <td>2017</td>\n",
       "        <td>446585</td>\n",
       "        <td>455457</td>\n",
       "        <td>-1</td>\n",
       "    </tr>\n",
       "    <tr>\n",
       "        <td>2018</td>\n",
       "        <td>447578</td>\n",
       "        <td>446585</td>\n",
       "        <td>0</td>\n",
       "    </tr>\n",
       "    <tr>\n",
       "        <td>2019</td>\n",
       "        <td>432353</td>\n",
       "        <td>447578</td>\n",
       "        <td>-3</td>\n",
       "    </tr>\n",
       "</table>"
      ],
      "text/plain": [
       "[('2007', 369996, 0, 0),\n",
       " ('2008', 396381, 369996, 7),\n",
       " ('2009', 404590, 396381, 2),\n",
       " ('2010', 451798, 404590, 11),\n",
       " ('2011', 437060, 451798, -3),\n",
       " ('2012', 438873, 437060, 0),\n",
       " ('2013', 430299, 438873, -1),\n",
       " ('2014', 442868, 430299, 2),\n",
       " ('2015', 446744, 442868, 0),\n",
       " ('2016', 455457, 446744, 1),\n",
       " ('2017', 446585, 455457, -1),\n",
       " ('2018', 447578, 446585, 0),\n",
       " ('2019', 432353, 447578, -3)]"
      ]
     },
     "execution_count": 16,
     "metadata": {},
     "output_type": "execute_result"
    }
   ],
   "source": [
    "%%sql\n",
    "with cte as(\n",
    "select\n",
    "            distinct strftime('%Y',datesold) as year,\n",
    "            cast(avg(price) as int) as avg_price\n",
    "from property\n",
    "            where bedrooms = 2\n",
    "            group by 1\n",
    "),\n",
    "cte_2 as(\n",
    "select\n",
    "            *,\n",
    "            coalesce(lag(avg_price,1) over(order by year),0) as prev_year_price\n",
    "            \n",
    "    from cte)\n",
    "select\n",
    "        *,\n",
    "        coalesce((avg_price - prev_year_price)*100/prev_year_price , 0)  as  pct_change\n",
    "from cte_2"
   ]
  },
  {
   "cell_type": "markdown",
   "metadata": {},
   "source": [
    "### The following query is to find out the % change in the average price for properties with 3 bedrooms compared to the previous year."
   ]
  },
  {
   "cell_type": "code",
   "execution_count": 17,
   "metadata": {},
   "outputs": [
    {
     "name": "stdout",
     "output_type": "stream",
     "text": [
      " * sqlite:///property.db\n",
      "Done.\n"
     ]
    },
    {
     "data": {
      "text/html": [
       "<table>\n",
       "    <tr>\n",
       "        <th>year</th>\n",
       "        <th>avg_price</th>\n",
       "        <th>prev_year_price</th>\n",
       "        <th>pct_change</th>\n",
       "    </tr>\n",
       "    <tr>\n",
       "        <td>2007</td>\n",
       "        <td>459947</td>\n",
       "        <td>0</td>\n",
       "        <td>0</td>\n",
       "    </tr>\n",
       "    <tr>\n",
       "        <td>2008</td>\n",
       "        <td>438253</td>\n",
       "        <td>459947</td>\n",
       "        <td>-4</td>\n",
       "    </tr>\n",
       "    <tr>\n",
       "        <td>2009</td>\n",
       "        <td>448192</td>\n",
       "        <td>438253</td>\n",
       "        <td>2</td>\n",
       "    </tr>\n",
       "    <tr>\n",
       "        <td>2010</td>\n",
       "        <td>503139</td>\n",
       "        <td>448192</td>\n",
       "        <td>12</td>\n",
       "    </tr>\n",
       "    <tr>\n",
       "        <td>2011</td>\n",
       "        <td>511957</td>\n",
       "        <td>503139</td>\n",
       "        <td>1</td>\n",
       "    </tr>\n",
       "    <tr>\n",
       "        <td>2012</td>\n",
       "        <td>502150</td>\n",
       "        <td>511957</td>\n",
       "        <td>-1</td>\n",
       "    </tr>\n",
       "    <tr>\n",
       "        <td>2013</td>\n",
       "        <td>505460</td>\n",
       "        <td>502150</td>\n",
       "        <td>0</td>\n",
       "    </tr>\n",
       "    <tr>\n",
       "        <td>2014</td>\n",
       "        <td>523178</td>\n",
       "        <td>505460</td>\n",
       "        <td>3</td>\n",
       "    </tr>\n",
       "    <tr>\n",
       "        <td>2015</td>\n",
       "        <td>555810</td>\n",
       "        <td>523178</td>\n",
       "        <td>6</td>\n",
       "    </tr>\n",
       "    <tr>\n",
       "        <td>2016</td>\n",
       "        <td>585767</td>\n",
       "        <td>555810</td>\n",
       "        <td>5</td>\n",
       "    </tr>\n",
       "    <tr>\n",
       "        <td>2017</td>\n",
       "        <td>610984</td>\n",
       "        <td>585767</td>\n",
       "        <td>4</td>\n",
       "    </tr>\n",
       "    <tr>\n",
       "        <td>2018</td>\n",
       "        <td>627773</td>\n",
       "        <td>610984</td>\n",
       "        <td>2</td>\n",
       "    </tr>\n",
       "    <tr>\n",
       "        <td>2019</td>\n",
       "        <td>615843</td>\n",
       "        <td>627773</td>\n",
       "        <td>-1</td>\n",
       "    </tr>\n",
       "</table>"
      ],
      "text/plain": [
       "[('2007', 459947, 0, 0),\n",
       " ('2008', 438253, 459947, -4),\n",
       " ('2009', 448192, 438253, 2),\n",
       " ('2010', 503139, 448192, 12),\n",
       " ('2011', 511957, 503139, 1),\n",
       " ('2012', 502150, 511957, -1),\n",
       " ('2013', 505460, 502150, 0),\n",
       " ('2014', 523178, 505460, 3),\n",
       " ('2015', 555810, 523178, 6),\n",
       " ('2016', 585767, 555810, 5),\n",
       " ('2017', 610984, 585767, 4),\n",
       " ('2018', 627773, 610984, 2),\n",
       " ('2019', 615843, 627773, -1)]"
      ]
     },
     "execution_count": 17,
     "metadata": {},
     "output_type": "execute_result"
    }
   ],
   "source": [
    "%%sql\n",
    "with cte as(\n",
    "select\n",
    "            distinct strftime('%Y',datesold) as year,\n",
    "            cast(avg(price) as int) as avg_price\n",
    "from property\n",
    "            where bedrooms = 3\n",
    "            group by 1\n",
    "),\n",
    "cte_2 as(\n",
    "select\n",
    "            *,\n",
    "            coalesce(lag(avg_price,1) over(order by year),0) as prev_year_price\n",
    "            \n",
    "    from cte)\n",
    "select\n",
    "        *,\n",
    "        coalesce((avg_price - prev_year_price)*100/prev_year_price , 0)  as  pct_change\n",
    "from cte_2"
   ]
  },
  {
   "cell_type": "markdown",
   "metadata": {},
   "source": [
    "### The following query is to find out the % change in the average price for properties with 4 bedrooms compared to the previous year."
   ]
  },
  {
   "cell_type": "code",
   "execution_count": 18,
   "metadata": {},
   "outputs": [
    {
     "name": "stdout",
     "output_type": "stream",
     "text": [
      " * sqlite:///property.db\n",
      "Done.\n"
     ]
    },
    {
     "data": {
      "text/html": [
       "<table>\n",
       "    <tr>\n",
       "        <th>year</th>\n",
       "        <th>avg_price</th>\n",
       "        <th>prev_year_price</th>\n",
       "        <th>pct_change</th>\n",
       "    </tr>\n",
       "    <tr>\n",
       "        <td>2007</td>\n",
       "        <td>628479</td>\n",
       "        <td>0</td>\n",
       "        <td>0</td>\n",
       "    </tr>\n",
       "    <tr>\n",
       "        <td>2008</td>\n",
       "        <td>559718</td>\n",
       "        <td>628479</td>\n",
       "        <td>-10</td>\n",
       "    </tr>\n",
       "    <tr>\n",
       "        <td>2009</td>\n",
       "        <td>573333</td>\n",
       "        <td>559718</td>\n",
       "        <td>2</td>\n",
       "    </tr>\n",
       "    <tr>\n",
       "        <td>2010</td>\n",
       "        <td>627649</td>\n",
       "        <td>573333</td>\n",
       "        <td>9</td>\n",
       "    </tr>\n",
       "    <tr>\n",
       "        <td>2011</td>\n",
       "        <td>651132</td>\n",
       "        <td>627649</td>\n",
       "        <td>3</td>\n",
       "    </tr>\n",
       "    <tr>\n",
       "        <td>2012</td>\n",
       "        <td>627624</td>\n",
       "        <td>651132</td>\n",
       "        <td>-3</td>\n",
       "    </tr>\n",
       "    <tr>\n",
       "        <td>2013</td>\n",
       "        <td>632656</td>\n",
       "        <td>627624</td>\n",
       "        <td>0</td>\n",
       "    </tr>\n",
       "    <tr>\n",
       "        <td>2014</td>\n",
       "        <td>673591</td>\n",
       "        <td>632656</td>\n",
       "        <td>6</td>\n",
       "    </tr>\n",
       "    <tr>\n",
       "        <td>2015</td>\n",
       "        <td>728415</td>\n",
       "        <td>673591</td>\n",
       "        <td>8</td>\n",
       "    </tr>\n",
       "    <tr>\n",
       "        <td>2016</td>\n",
       "        <td>745750</td>\n",
       "        <td>728415</td>\n",
       "        <td>2</td>\n",
       "    </tr>\n",
       "    <tr>\n",
       "        <td>2017</td>\n",
       "        <td>823263</td>\n",
       "        <td>745750</td>\n",
       "        <td>10</td>\n",
       "    </tr>\n",
       "    <tr>\n",
       "        <td>2018</td>\n",
       "        <td>830751</td>\n",
       "        <td>823263</td>\n",
       "        <td>0</td>\n",
       "    </tr>\n",
       "    <tr>\n",
       "        <td>2019</td>\n",
       "        <td>777869</td>\n",
       "        <td>830751</td>\n",
       "        <td>-6</td>\n",
       "    </tr>\n",
       "</table>"
      ],
      "text/plain": [
       "[('2007', 628479, 0, 0),\n",
       " ('2008', 559718, 628479, -10),\n",
       " ('2009', 573333, 559718, 2),\n",
       " ('2010', 627649, 573333, 9),\n",
       " ('2011', 651132, 627649, 3),\n",
       " ('2012', 627624, 651132, -3),\n",
       " ('2013', 632656, 627624, 0),\n",
       " ('2014', 673591, 632656, 6),\n",
       " ('2015', 728415, 673591, 8),\n",
       " ('2016', 745750, 728415, 2),\n",
       " ('2017', 823263, 745750, 10),\n",
       " ('2018', 830751, 823263, 0),\n",
       " ('2019', 777869, 830751, -6)]"
      ]
     },
     "execution_count": 18,
     "metadata": {},
     "output_type": "execute_result"
    }
   ],
   "source": [
    "%%sql\n",
    "with cte as(\n",
    "select\n",
    "            distinct strftime('%Y',datesold) as year,\n",
    "            cast(avg(price) as int) as avg_price\n",
    "from property\n",
    "            where bedrooms = 4\n",
    "            group by 1\n",
    "),\n",
    "cte_2 as(\n",
    "select\n",
    "            *,\n",
    "            coalesce(lag(avg_price,1) over(order by year),0) as prev_year_price\n",
    "            \n",
    "    from cte)\n",
    "select\n",
    "        *,\n",
    "        coalesce((avg_price - prev_year_price)*100/prev_year_price , 0)  as  pct_change\n",
    "from cte_2"
   ]
  },
  {
   "cell_type": "markdown",
   "metadata": {},
   "source": [
    "### The following query is to find out the % change in the average price for properties with 5 bedrooms compared to the previous year."
   ]
  },
  {
   "cell_type": "code",
   "execution_count": 19,
   "metadata": {},
   "outputs": [
    {
     "name": "stdout",
     "output_type": "stream",
     "text": [
      " * sqlite:///property.db\n",
      "Done.\n"
     ]
    },
    {
     "data": {
      "text/html": [
       "<table>\n",
       "    <tr>\n",
       "        <th>year</th>\n",
       "        <th>avg_price</th>\n",
       "        <th>prev_year_price</th>\n",
       "        <th>pct_change</th>\n",
       "    </tr>\n",
       "    <tr>\n",
       "        <td>2007</td>\n",
       "        <td>786300</td>\n",
       "        <td>0</td>\n",
       "        <td>0</td>\n",
       "    </tr>\n",
       "    <tr>\n",
       "        <td>2008</td>\n",
       "        <td>792990</td>\n",
       "        <td>786300</td>\n",
       "        <td>0</td>\n",
       "    </tr>\n",
       "    <tr>\n",
       "        <td>2009</td>\n",
       "        <td>714441</td>\n",
       "        <td>792990</td>\n",
       "        <td>-9</td>\n",
       "    </tr>\n",
       "    <tr>\n",
       "        <td>2010</td>\n",
       "        <td>856062</td>\n",
       "        <td>714441</td>\n",
       "        <td>19</td>\n",
       "    </tr>\n",
       "    <tr>\n",
       "        <td>2011</td>\n",
       "        <td>847338</td>\n",
       "        <td>856062</td>\n",
       "        <td>-1</td>\n",
       "    </tr>\n",
       "    <tr>\n",
       "        <td>2012</td>\n",
       "        <td>825651</td>\n",
       "        <td>847338</td>\n",
       "        <td>-2</td>\n",
       "    </tr>\n",
       "    <tr>\n",
       "        <td>2013</td>\n",
       "        <td>761837</td>\n",
       "        <td>825651</td>\n",
       "        <td>-7</td>\n",
       "    </tr>\n",
       "    <tr>\n",
       "        <td>2014</td>\n",
       "        <td>858843</td>\n",
       "        <td>761837</td>\n",
       "        <td>12</td>\n",
       "    </tr>\n",
       "    <tr>\n",
       "        <td>2015</td>\n",
       "        <td>928442</td>\n",
       "        <td>858843</td>\n",
       "        <td>8</td>\n",
       "    </tr>\n",
       "    <tr>\n",
       "        <td>2016</td>\n",
       "        <td>963874</td>\n",
       "        <td>928442</td>\n",
       "        <td>3</td>\n",
       "    </tr>\n",
       "    <tr>\n",
       "        <td>2017</td>\n",
       "        <td>1019694</td>\n",
       "        <td>963874</td>\n",
       "        <td>5</td>\n",
       "    </tr>\n",
       "    <tr>\n",
       "        <td>2018</td>\n",
       "        <td>1015530</td>\n",
       "        <td>1019694</td>\n",
       "        <td>0</td>\n",
       "    </tr>\n",
       "    <tr>\n",
       "        <td>2019</td>\n",
       "        <td>939989</td>\n",
       "        <td>1015530</td>\n",
       "        <td>-7</td>\n",
       "    </tr>\n",
       "</table>"
      ],
      "text/plain": [
       "[('2007', 786300, 0, 0),\n",
       " ('2008', 792990, 786300, 0),\n",
       " ('2009', 714441, 792990, -9),\n",
       " ('2010', 856062, 714441, 19),\n",
       " ('2011', 847338, 856062, -1),\n",
       " ('2012', 825651, 847338, -2),\n",
       " ('2013', 761837, 825651, -7),\n",
       " ('2014', 858843, 761837, 12),\n",
       " ('2015', 928442, 858843, 8),\n",
       " ('2016', 963874, 928442, 3),\n",
       " ('2017', 1019694, 963874, 5),\n",
       " ('2018', 1015530, 1019694, 0),\n",
       " ('2019', 939989, 1015530, -7)]"
      ]
     },
     "execution_count": 19,
     "metadata": {},
     "output_type": "execute_result"
    }
   ],
   "source": [
    "%%sql\n",
    "with cte as(\n",
    "select\n",
    "            distinct strftime('%Y',datesold) as year,\n",
    "            cast(avg(price) as int) as avg_price\n",
    "from property\n",
    "            where bedrooms = 5\n",
    "            group by 1\n",
    "),\n",
    "cte_2 as(\n",
    "select\n",
    "            *,\n",
    "            coalesce(lag(avg_price,1) over(order by year),0) as prev_year_price\n",
    "            \n",
    "    from cte)\n",
    "select\n",
    "        *,\n",
    "        coalesce((avg_price - prev_year_price)*100/prev_year_price , 0)  as  pct_change\n",
    "from cte_2"
   ]
  },
  {
   "cell_type": "code",
   "execution_count": null,
   "metadata": {},
   "outputs": [],
   "source": []
  }
 ],
 "metadata": {
  "kernelspec": {
   "display_name": "Python 3",
   "language": "python",
   "name": "python3"
  },
  "language_info": {
   "codemirror_mode": {
    "name": "ipython",
    "version": 3
   },
   "file_extension": ".py",
   "mimetype": "text/x-python",
   "name": "python",
   "nbconvert_exporter": "python",
   "pygments_lexer": "ipython3",
   "version": "3.8.3"
  }
 },
 "nbformat": 4,
 "nbformat_minor": 4
}
